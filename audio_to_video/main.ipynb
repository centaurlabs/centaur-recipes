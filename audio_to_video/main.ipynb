{
 "cells": [
  {
   "cell_type": "markdown",
   "metadata": {},
   "source": [
    "## Audio to Video Conversion\n",
    "\n",
    "This notebook illustrates an example to generate a static video from an audio file.\n",
    "This example uses:\n",
    "- `moviepy` library for video I/O and processing\n",
    "\n",
    "Variables:\n",
    "- background_image_path: path to image that will be used as the video background.\n",
    "If `None` then the video will be created with a solid black background.\n",
    "- audio_path: path to audio to be used for the video.\n",
    "- video_path: path for video output.\n",
    "\n",
    "If background_image_path is `None`, then the following parameters should be set as well:\n",
    "- video_width: width of output image\n",
    "- video_height: height of output image\n"
   ]
  },
  {
   "cell_type": "code",
   "execution_count": null,
   "metadata": {},
   "outputs": [],
   "source": [
    "# # Imports\n",
    "import moviepy.editor as mpy"
   ]
  },
  {
   "cell_type": "code",
   "execution_count": null,
   "metadata": {},
   "outputs": [],
   "source": [
    "# # Variables\n",
    "background_image_path = \"example/input/example_heart_beat.png\"\n",
    "audio_path = \"example/input/example_heart_beat.wav\"\n",
    "video_path = \"example/output/example_heart_beat.mp4\"\n",
    "\n",
    "# Only used if no background image is supplied\n",
    "video_width = 250\n",
    "video_height = 250"
   ]
  },
  {
   "cell_type": "code",
   "execution_count": null,
   "metadata": {},
   "outputs": [],
   "source": [
    "# # Create video from image or solid black background and add audio\n",
    "if background_image_path is not None:\n",
    "    clip = mpy.ImageClip(background_image_path)\n",
    "else:\n",
    "    clip = mpy.ColorClip(size=(video_width, video_height), color=(0, 0, 0))\n",
    "\n",
    "audio = mpy.AudioFileClip(audio_path, fps=44100)\n",
    "clip = clip.set_duration(audio.duration)\n",
    "clip = clip.set_audio(audio)"
   ]
  },
  {
   "cell_type": "code",
   "execution_count": null,
   "metadata": {},
   "outputs": [],
   "source": [
    "# # Save the video file\n",
    "clip.write_videofile(\n",
    "    video_path,\n",
    "    fps=1,\n",
    "    rewrite_audio=False,\n",
    "    audio=True,\n",
    "    audio_bitrate=\"256k\",\n",
    "    audio_codec=\"aac\",\n",
    "    logger=None,\n",
    "    # These ffmpeg params are needed for compatibility with some video players\n",
    "    ffmpeg_params=[\"-vf\", \"pad=ceil(iw/2)*2:ceil(ih/2)*2\", \"-pix_fmt\", \"yuv420p\"],\n",
    ")\n",
    "audio.close()\n",
    "clip.close()\n"
   ]
  }
 ],
 "metadata": {
  "language_info": {
   "codemirror_mode": {
    "name": "ipython"
   },
   "file_extension": ".py",
   "mimetype": "text/x-python",
   "name": "python",
   "nbconvert_exporter": "python"
  }
 },
 "nbformat": 4,
 "nbformat_minor": 1
}
