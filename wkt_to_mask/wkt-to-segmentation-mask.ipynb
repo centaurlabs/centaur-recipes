{
 "cells": [
  {
   "cell_type": "markdown",
   "metadata": {},
   "source": [
    "## WKT to Segmentation Mask\n",
    "\n",
    "This notebook illustrates an example to convert segmentation WKTs into grayscale image mask.\n",
    "\n",
    "This example uses:  \n",
    "- `PIL` library for image I/O and drawing mask\n",
    "- `shapely` for pre-processing WKTs and generating polygons\n",
    "\n",
    "If you recieved your WKTs from Centaur, they will be formatted with relative coordinates.\n",
    "Make sure to convert them to absolute coordinates first. Check the (@TODO: Link recipe)\n",
    "recipe to do the conversion.\n",
    "\n",
    "This script does not handle shapes with holes."
   ]
  },
  {
   "cell_type": "code",
   "execution_count": null,
   "metadata": {},
   "outputs": [],
   "source": [
    "# imports\n",
    "import json\n",
    "import numpy as np\n",
    "\n",
    "from PIL import Image, ImageDraw\n",
    "\n",
    "import shapely.wkt\n",
    "import shapely.geometry"
   ]
  },
  {
   "cell_type": "code",
   "execution_count": null,
   "metadata": {},
   "outputs": [],
   "source": [
    "# inputs paths\n",
    "JSON_WKT_PATH = \"./example/input/example_mask_wkt.json\"\n",
    "BASE_IMAGE_FILE_PATH = \"./example/input/example_base.png\"\n",
    "# output path\n",
    "MASK_IMAGE_FILE_PATH = \"./example/output/example_mask.png\""
   ]
  },
  {
   "cell_type": "markdown",
   "metadata": {},
   "source": [
    "### segmentation wkts to grayscale mask"
   ]
  },
  {
   "cell_type": "code",
   "execution_count": null,
   "metadata": {},
   "outputs": [],
   "source": [
    "# load wkts from json\n",
    "with open(JSON_WKT_PATH) as f:\n",
    "    list_of_wkt_masks = json.load(f)\n",
    "list_of_wkt_masks"
   ]
  },
  {
   "cell_type": "code",
   "execution_count": null,
   "metadata": {},
   "outputs": [],
   "source": [
    "# load base image\n",
    "base_image = Image.open(BASE_IMAGE_FILE_PATH).convert(\"L\")\n",
    "# prepare blank canvas\n",
    "canvas = np.zeros((int(base_image.height), int(base_image.width)))\n",
    "\n",
    "# draw mask\n",
    "mask_image = Image.fromarray(np.uint8(canvas))\n",
    "for wkt_mask in list_of_wkt_masks:\n",
    "    mask_polygon = shapely.wkt.loads(wkt_mask[\"wkt\"])\n",
    "    if mask_polygon.is_empty:\n",
    "        continue\n",
    "    mask_poly_coords = list(mask_polygon.exterior.coords)\n",
    "    ImageDraw.Draw(mask_image).polygon(mask_poly_coords, fill=wkt_mask[\"intensity\"])\n",
    "\n",
    "# save mask\n",
    "mask_image.save(MASK_IMAGE_FILE_PATH)"
   ]
  },
  {
   "cell_type": "markdown",
   "metadata": {},
   "source": [
    "### visualize generated mask on base image"
   ]
  },
  {
   "cell_type": "code",
   "execution_count": null,
   "metadata": {},
   "outputs": [],
   "source": [
    "from PIL import ImageFont\n",
    "from matplotlib import font_manager\n",
    "\n",
    "font = font_manager.FontProperties(family=\"sans-serif\", weight=\"bold\")\n",
    "font = ImageFont.truetype(font_manager.findfont(font), 48)\n",
    "\n",
    "# overlay mask\n",
    "composite_image = Image.blend(mask_image, base_image, alpha=0.6)\n",
    "\n",
    "# show overlay\n",
    "ImageDraw.Draw(base_image := base_image.convert(\"RGBA\")).text(\n",
    "    (100, 100), \"Base Image\", (255, 255, 255), font=font\n",
    ")\n",
    "ImageDraw.Draw(mask_image := mask_image.convert(\"RGBA\")).text(\n",
    "    (100, 100), \"Mask Image\", (255, 255, 255), font=font\n",
    ")\n",
    "ImageDraw.Draw(composite_image := composite_image.convert(\"RGBA\")).text(\n",
    "    (100, 100), \"Mask Overlay\", (255, 255, 255), font=font\n",
    ")\n",
    "overlay_strip = Image.fromarray(\n",
    "    np.hstack((np.array(base_image), np.array(mask_image), np.array(composite_image)))\n",
    ")\n",
    "overlay_strip"
   ]
  }
 ],
 "metadata": {
  "language_info": {
   "codemirror_mode": {
    "name": "ipython"
   },
   "file_extension": ".py",
   "mimetype": "text/x-python",
   "name": "python",
   "nbconvert_exporter": "python"
  }
 },
 "nbformat": 4,
 "nbformat_minor": 1
}
