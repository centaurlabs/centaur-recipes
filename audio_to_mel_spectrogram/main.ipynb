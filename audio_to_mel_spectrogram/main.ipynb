{
 "cells": [
  {
   "cell_type": "markdown",
   "metadata": {
    "pycharm": {
     "name": "#%% md\n"
    }
   },
   "source": [
    "## Mel Spectrogram Generation\n",
    "\n",
    "This notebook illustrates an example to generate a mel spectrogram from an audio file.\n",
    "\n",
    "This example uses:\n",
    "- `librosa` library for audio I/O and processing\n",
    "- `numpy` for some minor numerical processing\n",
    "- `matplotlib` for plotting and saving the spectrogram as an image file\n",
    "\n",
    "Variables:\n",
    "- audio_path: path to audio file\n",
    "- image_path: path to save resulting spectrogram image to. Most image types are supported.\n",
    "- resample_rate: You may choose to resample the audio at a particular frequency.\n",
    "  Leave as `None` if you want to use the file's native sampling rate.\n",
    "- image_width: width of output image\n",
    "- image_height: height of output image\n",
    "- plot_without_axis_or_labels: setting to remove graph axis and labels in the output image\n"
   ]
  },
  {
   "cell_type": "code",
   "execution_count": null,
   "metadata": {},
   "outputs": [],
   "source": [
    "# # Imports\n",
    "import librosa\n",
    "import librosa.display\n",
    "import numpy as np\n",
    "import matplotlib.pyplot as plt"
   ]
  },
  {
   "cell_type": "code",
   "execution_count": null,
   "metadata": {},
   "outputs": [],
   "source": [
    "# # Variables\n",
    "audio_path = './example/input/example_heart_beat.wav'\n",
    "image_path = './example/output/example_heart_beat.png'\n",
    "\n",
    "resample_rate = None\n",
    "image_width = 18.5\n",
    "image_height = 10.5\n",
    "\n",
    "plot_without_axis_or_labels = True"
   ]
  },
  {
   "cell_type": "code",
   "execution_count": null,
   "metadata": {},
   "outputs": [],
   "source": [
    "# # Audio input and processing\n",
    "# load audio\n",
    "wave, rate = librosa.load(audio_path, sr=resample_rate)\n",
    "\n",
    "# trim audio of leading and trailing silence\n",
    "trim, _ = librosa.effects.trim(wave)\n",
    "\n",
    "# convert to mel spectrogram\n",
    "mel = librosa.feature.melspectrogram(y=trim, sr=rate)\n",
    "\n",
    "# convert scale from amplitude squared to decibels (relative to max)\n",
    "db = librosa.power_to_db(mel, ref=np.max)"
   ]
  },
  {
   "cell_type": "code",
   "execution_count": null,
   "metadata": {},
   "outputs": [],
   "source": [
    "# # Spectrogram plotting\n",
    "fig, ax = plt.subplots()\n",
    "\n",
    "fig.set_size_inches(image_width, image_height)\n",
    "img = librosa.display.specshow(db, x_axis='s', y_axis='mel', sr=rate, ax=ax)\n",
    "\n",
    "if plot_without_axis_or_labels:\n",
    "    fig.patch.set_visible(False)\n",
    "    ax.axis('off')\n",
    "else:\n",
    "    fig.colorbar(img, ax=ax, format=\"%+2.f dB\")\n",
    "\n",
    "plt.show()"
   ]
  },
  {
   "cell_type": "code",
   "execution_count": null,
   "metadata": {},
   "outputs": [],
   "source": [
    "# # Saving image\n",
    "if plot_without_axis_or_labels:\n",
    "    transparent = True\n",
    "    pad_inches = 0\n",
    "else:\n",
    "    transparent = False\n",
    "    pad_inches = 0.1\n",
    "\n",
    "fig.savefig(image_path, bbox_inches=\"tight\", transparent=transparent, pad_inches=pad_inches)"
   ]
  }
 ],
 "metadata": {
  "language_info": {
   "name": "python"
  }
 },
 "nbformat": 4,
 "nbformat_minor": 1
}
