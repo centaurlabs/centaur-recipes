{
 "cells": [
  {
   "cell_type": "markdown",
   "id": "36236f82-9786-4fee-bc9b-e6d944241be3",
   "metadata": {},
   "source": [
    "## Absolute Pixel to WKT\n",
    "\n",
    "This notebook demonstrates how to convert geometries stored in “absolute” format( x/y coordinates in pixel values) to WKT format (0->100) before uploading to the portal.\n",
    "\n",
    "This example uses:\n",
    "- `shapely` library for geometric operations on polygon objects."
   ]
  },
  {
   "cell_type": "markdown",
   "id": "033ac9e3-6dcb-43bd-9431-032bb959414e",
   "metadata": {},
   "source": [
    "### Input Image and Pixel Coordinates"
   ]
  },
  {
   "cell_type": "code",
   "execution_count": 39,
   "id": "7df70153-489b-4a66-8909-e154b445b8cf",
   "metadata": {},
   "outputs": [],
   "source": [
    "from shapely.geometry import Polygon\n",
    "\n",
    "# Input your values here:\n",
    "image_file_path = \"example/input/example_image.jpg\"  # Replace with the actual path to the image file\n",
    "json_file_path = \"example/input/example_input.json\"  # Replace with the actual path to the JSON file with the pi\n",
    "\n",
    "# Extract pixel dimensions of the provided image\n",
    "image = Image.open(image_file_path)\n",
    "image_width, image_height = image.size\n",
    "\n",
    "# Load image points from the JSON file\n",
    "image_points = load_points_from_json(json_file_path)\n"
   ]
  },
  {
   "cell_type": "markdown",
   "id": "90d9feb5-233c-4348-adf5-cb9094b50036",
   "metadata": {},
   "source": [
    "### Standardize Pixel Values\n",
    "\n",
    "The code below converts a pixel coordinate to a standardized range (0 to 100) using a scaling factor of 100"
   ]
  },
  {
   "cell_type": "code",
   "execution_count": 35,
   "id": "47eaf34a-ce55-4d3f-90ee-96498033744f",
   "metadata": {},
   "outputs": [],
   "source": [
    "# This factor ensures that the converted coordinates fall within a standardized range (0 to 100)\n",
    "CENTAUR_SCALE_FACTOR = 100\n",
    "\n",
    "# Ensures that a given value falls within the range of 0 to 100\n",
    "def fit_bounds(value: float) -> float:\n",
    "    return max(0, min(value, 100))\n",
    "\n",
    "#Converts a pixel coordinate to a standardized range (0 to 100)\n",
    "def convert_point(x: float, y: float, image_width: int, image_height: int) -> tuple:\n",
    "    x_converted = fit_bounds(x * CENTAUR_SCALE_FACTOR / image_width)\n",
    "    y_converted = fit_bounds(y * CENTAUR_SCALE_FACTOR / image_height)\n",
    "    return x_converted, y_converted"
   ]
  },
  {
   "cell_type": "markdown",
   "id": "f8c91b2e-5238-4343-9177-ac31bb521d29",
   "metadata": {},
   "source": [
    "### Convert Pixel Coordinates to WKT\n",
    "\n",
    "The code below converts a list of pixel points to a Well-Known Text (WKT) string representing a Polygon. The pixel coordinates are scaled and bounded in order to create a Shapely Polygon object. Then, the resulting WKT string representing the Polygon is returned."
   ]
  },
  {
   "cell_type": "code",
   "execution_count": 36,
   "id": "07230706-a2de-402c-9cdc-7ef0eccae39b",
   "metadata": {},
   "outputs": [],
   "source": [
    "# Function to convert pixel coordinates to a WKT string representing a Polygon\n",
    "def points_to_wkt_string(image_width: int, image_height: int, pixel_points: list) -> str:\n",
    "    converted_points = [convert_point(p['x'], p['y'], image_width, image_height) for p in pixel_points]\n",
    "    polygon = Polygon(converted_points)\n",
    "    print(wkt_string)\n",
    "    return polygon.wkt"
   ]
  },
  {
   "cell_type": "markdown",
   "id": "8b292ed9-d30c-4a7f-a41f-7d5e20b992d2",
   "metadata": {},
   "source": [
    "### Return WKT string"
   ]
  },
  {
   "cell_type": "code",
   "execution_count": 37,
   "id": "b96f4b34-5123-49c8-862d-9f135b0e22a9",
   "metadata": {},
   "outputs": [
    {
     "name": "stdout",
     "output_type": "stream",
     "text": [
      "POLYGON ((67.36526946107784 36.5625, 50.1497005988024 36.5625, 53.293413173652695 60.15625, 32.18562874251497 60.15625, 67.36526946107784 36.5625))\n"
     ]
    }
   ],
   "source": [
    "# Call the function to convert pixel points to WKT string\n",
    "wkt_string = points_to_wkt_string(image_width, image_height, image_points)"
   ]
  }
 ],
 "metadata": {
  "kernelspec": {
   "display_name": "Python 3 (ipykernel)",
   "language": "python",
   "name": "python3"
  },
  "language_info": {
   "codemirror_mode": {
    "name": "ipython",
    "version": 3
   },
   "file_extension": ".py",
   "mimetype": "text/x-python",
   "name": "python",
   "nbconvert_exporter": "python",
   "pygments_lexer": "ipython3",
   "version": "3.12.1"
  }
 },
 "nbformat": 4,
 "nbformat_minor": 5
}
