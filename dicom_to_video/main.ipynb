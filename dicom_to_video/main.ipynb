{
 "cells": [
  {
   "cell_type": "markdown",
   "metadata": {},
   "source": [
    "## DICOM to Video\n",
    "\n",
    "This notebook demonstrates how to convert a Digital Imaging and Communications in Medicine (DICOM) file to one or more videos.\n",
    "\n",
    "This example uses:\n",
    "- `pydicom` library for reading and parsing DICOM files.\n",
    "- `cv2` (installed as `opencv-python`) for image processing, color space conversions.\n",
    "- `numpy` for numerical operations and handling arrays, useful to manipulate image pixel data."
   ]
  },
  {
   "cell_type": "code",
   "execution_count": 1,
   "metadata": {},
   "outputs": [],
   "source": [
    "# Imports\n",
    "import cv2\n",
    "import numpy as np\n",
    "import pydicom\n",
    "from pydicom.pixel_data_handlers.util import apply_voi_lut, convert_color_space, apply_modality_lut\n",
    "from pathlib import Path"
   ]
  },
  {
   "cell_type": "code",
   "execution_count": 2,
   "metadata": {},
   "outputs": [],
   "source": [
    "# DICOM source file (`.dcm` extension).\n",
    "SRC_PATH = \"./example/input/sample_monochrome2_multiframe.dcm\"\n",
    "\n",
    "# Output path to store each frame.\n",
    "VIDEO_PATH = Path(\"./example/output/dicom_video.mp4\")\n",
    "FPS = 10"
   ]
  },
  {
   "cell_type": "markdown",
   "metadata": {},
   "source": [
    "### Load DICOM file and its image data"
   ]
  },
  {
   "cell_type": "code",
   "execution_count": 3,
   "metadata": {},
   "outputs": [],
   "source": [
    "ds = pydicom.dcmread(SRC_PATH)\n",
    "pixel_array = ds.pixel_array"
   ]
  },
  {
   "cell_type": "markdown",
   "metadata": {},
   "source": [
    "### Apply Modality LUT\n",
    "\n",
    "DICOMs may contain a Modality Look-Up Table (LUT) to transform **raw data** from imaging devices into standardized units (i.e. Hounsfield units which quantify tissue density) also known as \"modality-specific values\" to ensure consistency regardless of the device used to acquire the image."
   ]
  },
  {
   "cell_type": "code",
   "execution_count": 4,
   "metadata": {},
   "outputs": [],
   "source": [
    "if \"ModalityLUTSequence\" in ds or (\"RescaleSlope\" in ds and \"RescaleIntercept\" in ds):\n",
    "    pixel_array = apply_modality_lut(pixel_array, ds)\n",
    "else:\n",
    "    slope = ds.get(\"RescaleSlope\", 1.0)\n",
    "    intercept = ds.get(\"RescaleIntercept\", 0.0)\n",
    "    pixel_array = pixel_array * slope + intercept"
   ]
  },
  {
   "cell_type": "markdown",
   "metadata": {},
   "source": [
    "### Apply VOI LUT or Window Level\n",
    "\n",
    "DICOMs may contain a VOI LUT (Value of Interest Look-Up Table) to transform modality-specific values into pixel values that best reflect the desired content or area of interest. For example, to enhance specific features in medical images to highlighting tumors or blood vessels."
   ]
  },
  {
   "cell_type": "code",
   "execution_count": 5,
   "metadata": {},
   "outputs": [],
   "source": [
    "pixel_array = pixel_array.astype(np.int32)\n",
    "pixel_array = apply_voi_lut(pixel_array, ds)"
   ]
  },
  {
   "cell_type": "markdown",
   "metadata": {},
   "source": [
    "### Convert source image type to RGB color space\n",
    "\n",
    "The DICOM file may contain an image that is grayscale (MONOCHROME1 or MONOCHROME2), RGB, YBR, or palette color. The code below converts the source image from its respective color space to RGB color space.\n",
    "\n",
    "- The \"PALETTE COLOR\" type is not handled, as it is more complicated and out of the scope of this example notebook.\n",
    "- The \"MONOCHROME2\" type does not need conversion because pixel values are already dark-to-bright in ascending order.\n",
    "- And the \"RGB\" type is already in the target color space."
   ]
  },
  {
   "cell_type": "code",
   "execution_count": 6,
   "metadata": {},
   "outputs": [],
   "source": [
    "image_type = ds.get(\"PhotometricInterpretation\", \"MONOCHROME2\")\n",
    "if image_type == \"MONOCHROME1\":\n",
    "    pixel_array = np.amax(pixel_array) - pixel_array\n",
    "elif image_type in (\"RGB\", \"YBR_FULL\", \"YBR_FULL_422\"):\n",
    "    pixel_array = convert_color_space(pixel_array, image_type, \"RGB\")\n",
    "    pixel_array = cv2.cvtColor(pixel_array, cv2.COLOR_RGB2BGR)\n",
    "    \n",
    "pixel_array = cv2.normalize(pixel_array, None, 0, 255, cv2.NORM_MINMAX).astype(np.uint8)"
   ]
  },
  {
   "cell_type": "markdown",
   "metadata": {},
   "source": [
    "### Save DICOM frames to the output folder"
   ]
  },
  {
   "cell_type": "code",
   "execution_count": 7,
   "metadata": {},
   "outputs": [
    {
     "name": "stdout",
     "output_type": "stream",
     "text": [
      "Number of frames: 96\n"
     ]
    }
   ],
   "source": [
    "frames = [frame for frame in pixel_array]\n",
    "\n",
    "# Determine frame size\n",
    "height, width = frames[0].shape[:2]\n",
    "print(\"Number of frames:\", len(frames))"
   ]
  },
  {
   "cell_type": "code",
   "execution_count": 8,
   "metadata": {},
   "outputs": [],
   "source": [
    "# Setup Video Writer\n",
    "VIDEO_PATH.parent.mkdir(parents=True, exist_ok=True)\n",
    "is_color = True if len(frames[0].shape) == 3 else False\n",
    "fourcc = cv2.VideoWriter_fourcc(*'mp4v')\n",
    "\n",
    "is_color = False if len(frames[0].shape) == 2 else True\n",
    "video_writer = cv2.VideoWriter(str(VIDEO_PATH), fourcc, FPS, (width, height), isColor=is_color)"
   ]
  },
  {
   "cell_type": "code",
   "execution_count": 9,
   "metadata": {},
   "outputs": [
    {
     "name": "stdout",
     "output_type": "stream",
     "text": [
      "File size (bytes):359509 saved to: example/output/dicom_video.mp4\n"
     ]
    }
   ],
   "source": [
    "# Write Frames to Video\n",
    "for i, frame in enumerate(frames):\n",
    "    if is_color and len(frame.shape) == 2:\n",
    "        frame = cv2.cvtColor(frame, cv2.COLOR_GRAY2BGR)\n",
    "    elif not is_color and len(frame.shape) == 3:\n",
    "        frame = cv2.cvtColor(frame, cv2.COLOR_BGR2GRAY)\n",
    "    video_writer.write(frame)\n",
    "\n",
    "video_writer.release()\n",
    "print(f\"File size (bytes):{VIDEO_PATH.stat().st_size} saved to: {VIDEO_PATH}\")"
   ]
  }
 ],
 "metadata": {
  "kernelspec": {
   "display_name": "Python12(lynda)",
   "language": "python",
   "name": "lynda"
  },
  "language_info": {
   "codemirror_mode": {
    "name": "ipython",
    "version": 3
   },
   "file_extension": ".py",
   "mimetype": "text/x-python",
   "name": "python",
   "nbconvert_exporter": "python",
   "pygments_lexer": "ipython3",
   "version": "3.12.2"
  }
 },
 "nbformat": 4,
 "nbformat_minor": 4
}
