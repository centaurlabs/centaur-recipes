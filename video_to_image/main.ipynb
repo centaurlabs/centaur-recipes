{
 "cells": [
  {
   "cell_type": "markdown",
   "metadata": {},
   "source": [
    "## Video to Image (frames)\n",
    "\n",
    "This notebook illustrates how to convert a video source (i.e. MP4) to a series of images in PNG or JPEG format.\n",
    "\n",
    "This example uses:\n",
    "- `cv2` library for computer vision and image manipulation"
   ]
  },
  {
   "cell_type": "code",
   "execution_count": 1,
   "metadata": {},
   "outputs": [],
   "source": [
    "# Imports\n",
    "from os import path\n",
    "import cv2"
   ]
  },
  {
   "cell_type": "code",
   "execution_count": 2,
   "metadata": {},
   "outputs": [],
   "source": [
    "# Input video path.\n",
    "SRC_PATH = \"./example/input/sample.mp4\"\n",
    "\n",
    "# Output path to store each image.\n",
    "OUT_PATH = \"./example/output/\"\n",
    "\n",
    "# File extension for each image.\n",
    "EXT = \"png\""
   ]
  },
  {
   "cell_type": "markdown",
   "metadata": {},
   "source": [
    "### Process video and save each frame"
   ]
  },
  {
   "cell_type": "code",
   "execution_count": 5,
   "metadata": {},
   "outputs": [],
   "source": [
    "video = cv2.VideoCapture(SRC_PATH)\n",
    "index = 0\n",
    "\n",
    "while True:\n",
    "    success, frame = video.read()\n",
    "    if not success: break\n",
    "\n",
    "    cv2.imwrite(path.join(OUT_PATH, f'{index:03d}.' + EXT), frame)\n",
    "    index += 1\n",
    "\n",
    "video.release()"
   ]
  },
  {
   "cell_type": "markdown",
   "metadata": {},
   "source": [
    "### Bonus: Process only a portion of the video"
   ]
  },
  {
   "cell_type": "code",
   "execution_count": 6,
   "metadata": {},
   "outputs": [],
   "source": [
    "# Load video and get the frames-per-second (FPS) metric.\n",
    "video = cv2.VideoCapture(SRC_PATH)\n",
    "fps = int(video.get(cv2.CAP_PROP_FPS))\n",
    "\n",
    "# Video portion to extract (in seconds). Range is inclusive.\n",
    "START_TIME = 1.5\n",
    "END_TIME = 1.8\n",
    "\n",
    "# Set the appropriate initial frame and calculate frames to extract.\n",
    "video.set(cv2.CAP_PROP_POS_FRAMES, START_TIME * fps)\n",
    "total = int((END_TIME - START_TIME) * fps)\n",
    "\n",
    "index = 0\n",
    "while index <= total:\n",
    "    success, frame = video.read()\n",
    "    if not success: break\n",
    "\n",
    "    cv2.imwrite(path.join(OUT_PATH, f'{index:03d}.' + EXT), frame)\n",
    "    index += 1\n",
    "\n",
    "video.release()\n"
   ]
  }
 ],
 "metadata": {
  "kernelspec": {
   "display_name": "Python 3 (ipykernel)",
   "language": "python",
   "name": "python3"
  },
  "language_info": {
   "codemirror_mode": {
    "name": "ipython",
    "version": 3
   },
   "file_extension": ".py",
   "mimetype": "text/x-python",
   "name": "python",
   "nbconvert_exporter": "python",
   "pygments_lexer": "ipython3",
   "version": "3.12.1"
  }
 },
 "nbformat": 4,
 "nbformat_minor": 4
}
