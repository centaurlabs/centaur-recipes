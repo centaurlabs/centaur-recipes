{
 "cells": [
  {
   "cell_type": "markdown",
   "metadata": {
    "collapsed": true,
    "pycharm": {
     "name": "#%% md\n"
    }
   },
   "source": [
    "# Mask Extraction\n",
    "\n",
    "This notebook will handle converting a grayscale image mask to a WKT geometry\n",
    "\n",
    "## Instructions\n",
    "\n",
    "### Installation"
   ]
  },
  {
   "cell_type": "code",
   "execution_count": 8,
   "outputs": [],
   "source": [
    "from PIL import Image, ImageDraw\n",
    "from IPython.display import display\n",
    "from shapely.wkt import loads\n",
    "import matplotlib.cm as cm\n",
    "\n",
    "from file_utilities import nested_dict_to_json_file\n",
    "from geometry_processing import convert_percentage_to_coords\n",
    "from mask_extraction import get_pixel_arrays_from_image, extract_segmentations_from_pixel_array"
   ],
   "metadata": {
    "collapsed": false,
    "pycharm": {
     "name": "#%%\n"
    }
   }
  },
  {
   "cell_type": "code",
   "execution_count": 53,
   "outputs": [],
   "source": [
    "IMAGE_FILE_PATH = './example/input/example_base.png'\n",
    "IMAGE_MASK_FILE_PATH = './example/input/example_mask.png'\n",
    "OUTPUT_PATH = f'./example/output/example_mask_wkt.json'"
   ],
   "metadata": {
    "collapsed": false,
    "pycharm": {
     "name": "#%%\n"
    }
   }
  },
  {
   "cell_type": "markdown",
   "source": [
    "### Step 1: Extract pixel arrays from every image in the image folder"
   ],
   "metadata": {
    "collapsed": false
   }
  },
  {
   "cell_type": "code",
   "execution_count": 54,
   "outputs": [],
   "source": [
    "pixel_array = get_pixel_arrays_from_image(IMAGE_MASK_FILE_PATH)"
   ],
   "metadata": {
    "collapsed": false,
    "pycharm": {
     "name": "#%%\n"
    }
   }
  },
  {
   "cell_type": "markdown",
   "source": [
    "### Step 2: Extract mask polygons for all voxels from pixel arrays"
   ],
   "metadata": {
    "collapsed": false,
    "pycharm": {
     "name": "#%% md\n"
    }
   }
  },
  {
   "cell_type": "code",
   "execution_count": 55,
   "outputs": [],
   "source": [
    "segmentation_data = extract_segmentations_from_pixel_array(\n",
    "   IMAGE_MASK_FILE_PATH, pixel_array\n",
    ")"
   ],
   "metadata": {
    "collapsed": false,
    "pycharm": {
     "name": "#%%\n"
    }
   }
  },
  {
   "cell_type": "markdown",
   "source": [
    "### Step 3: Dump segmentation dictionary as json"
   ],
   "metadata": {
    "collapsed": false,
    "pycharm": {
     "name": "#%% md\n"
    }
   }
  },
  {
   "cell_type": "code",
   "execution_count": 56,
   "outputs": [],
   "source": [
    "json_file_path = nested_dict_to_json_file(segmentation_data, OUTPUT_PATH)"
   ],
   "metadata": {
    "collapsed": false,
    "pycharm": {
     "name": "#%%\n"
    }
   }
  },
  {
   "cell_type": "markdown",
   "source": [
    "### Step 4: Visualize geometry on image"
   ],
   "metadata": {
    "collapsed": false,
    "pycharm": {
     "name": "#%% md\n"
    }
   }
  },
  {
   "cell_type": "code",
   "execution_count": null,
   "outputs": [],
   "source": [
    "img = Image.open(IMAGE_FILE_PATH)\n",
    "\n",
    "width = segmentation_data['width']\n",
    "height = segmentation_data['height']\n",
    "cmap = cm.get_cmap('hsv')\n",
    "draw = ImageDraw.Draw(img)\n",
    "\n",
    "for seg in segmentation_data['segmentations']:\n",
    "   voxel = seg['voxel']\n",
    "   polygons = [loads(poly) for poly in seg['polygons']]\n",
    "   for poly in polygons:\n",
    "      scaled_poly = convert_percentage_to_coords(poly, width, height)\n",
    "      draw.polygon(list(scaled_poly.exterior.coords), outline = cmap(voxel, bytes=True), width=2)\n",
    "\n",
    "display(img)"
   ],
   "metadata": {
    "collapsed": false,
    "pycharm": {
     "name": "#%%\n",
     "is_executing": true
    }
   }
  }
 ],
 "metadata": {
  "kernelspec": {
   "display_name": "Python 3",
   "language": "python",
   "name": "python3"
  },
  "language_info": {
   "codemirror_mode": {
    "name": "ipython",
    "version": 2
   },
   "file_extension": ".py",
   "mimetype": "text/x-python",
   "name": "python",
   "nbconvert_exporter": "python",
   "pygments_lexer": "ipython2",
   "version": "2.7.6"
  }
 },
 "nbformat": 4,
 "nbformat_minor": 0
}