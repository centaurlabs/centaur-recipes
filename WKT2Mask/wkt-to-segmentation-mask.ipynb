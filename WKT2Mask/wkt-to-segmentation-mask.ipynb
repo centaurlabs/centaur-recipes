{
 "cells": [
  {
   "cell_type": "markdown",
   "metadata": {
    "collapsed": true,
    "pycharm": {
     "name": "#%% md\n"
    }
   },
   "source": [
    "## WKT to Segmentation Mask\n",
    "\n",
    "This notebook illustrates an example to convert segmentation WKTs into grayscale image mask.\n",
    "\n",
    "This example uses:  \n",
    "- `PIL` library for image I/O and drawing mask\n",
    "- `shapely` for pre-processing WKTs and generating polygons\n",
    "\n",
    "(If you want to use these WKTs from us, don't forget to convert them (see Recipe @TODO))"
   ]
  },
  {
   "cell_type": "code",
   "execution_count": null,
   "metadata": {
    "pycharm": {
     "name": "#%%\n"
    }
   },
   "outputs": [],
   "source": [
    "# install dependencies\n",
    "! pip install -r requirements.txt"
   ]
  },
  {
   "cell_type": "code",
   "execution_count": null,
   "metadata": {
    "pycharm": {
     "name": "#%%\n"
    }
   },
   "outputs": [],
   "source": [
    "# imports\n",
    "import json\n",
    "import numpy as np\n",
    "\n",
    "from PIL import Image, ImageDraw\n",
    "\n",
    "import shapely.wkt\n",
    "import shapely.geometry"
   ]
  },
  {
   "cell_type": "code",
   "execution_count": null,
   "metadata": {
    "pycharm": {
     "name": "#%%\n"
    }
   },
   "outputs": [],
   "source": [
    "# inputs paths\n",
    "JSON_WKT_PATH = './example/input/example_mask_wkt.json'\n",
    "BASE_IMAGE_FILE_PATH = './example/input/example_base.png'\n",
    "# output path\n",
    "MASK_IMAGE_FILE_PATH = './example/output/example_mask.png'"
   ]
  },
  {
   "cell_type": "markdown",
   "metadata": {
    "pycharm": {
     "name": "#%% md\n"
    }
   },
   "source": [
    "### segmentation wkts to grayscale mask"
   ]
  },
  {
   "cell_type": "code",
   "execution_count": null,
   "metadata": {},
   "outputs": [],
   "source": [
    "# load wkts from json\n",
    "with open(JSON_WKT_PATH) as f:\n",
    "    list_of_wkt_masks = json.load(f)\n",
    "list_of_wkt_masks"
   ]
  },
  {
   "cell_type": "code",
   "execution_count": null,
   "metadata": {},
   "outputs": [],
   "source": [
    "# load base image\n",
    "base_image = Image.open(BASE_IMAGE_FILE_PATH)\n",
    "# prepare blank canvas\n",
    "canvas = np.zeros((int(base_image.height), int(base_image.width)))\n",
    "\n",
    "# draw mask\n",
    "mask_image = Image.fromarray(np.uint8(canvas))\n",
    "for wkt_mask in list_of_wkt_masks:\n",
    "    mask_polygon = shapely.wkt.loads(wkt_mask[\"wkt\"])\n",
    "    if mask_polygon.is_empty:\n",
    "            continue\n",
    "    mask_poly_coords = list(mask_polygon.exterior.coords)\n",
    "    ImageDraw.Draw(mask_image).polygon(mask_poly_coords, fill = wkt_mask['intensity'])\n",
    "    \n",
    "# save mask\n",
    "mask_image.save(MASK_IMAGE_FILE_PATH)"
   ]
  },
  {
   "cell_type": "markdown",
   "metadata": {
    "pycharm": {
     "name": "#%% md\n"
    }
   },
   "source": [
    "### visualize generated mask on base image"
   ]
  },
  {
   "cell_type": "code",
   "execution_count": null,
   "metadata": {},
   "outputs": [],
   "source": [
    "from PIL import ImageFont\n",
    "from matplotlib import font_manager\n",
    "\n",
    "font = font_manager.FontProperties(family='sans-serif', weight='bold')\n",
    "font = ImageFont.truetype(font_manager.findfont(font), 48)\n",
    "\n",
    "# create new layer\n",
    "layer = Image.new('RGBA', base_image.size, (0, 0, 0, 0))\n",
    "layer.paste(mask_image.convert('RGBA'), (0,0))\n",
    "# create a copy of the layer\n",
    "layer2 = layer.copy()\n",
    "# put alpha on the copy\n",
    "layer2.putalpha(128)\n",
    "# merge layers with mask\n",
    "layer.paste(layer2, layer)\n",
    "# overlay\n",
    "composite_image = Image.alpha_composite(base_image, layer)\n",
    "\n",
    "# show overlay\n",
    "ImageDraw.Draw(base_image).text((100, 100), \"Base Image\", (255,255,255), font=font)\n",
    "ImageDraw.Draw(mask_image := mask_image.convert(\"RGBA\")).text((100, 100), \"Mask Image\", (255,255,255), font=font)\n",
    "ImageDraw.Draw(composite_image).text((100, 100), \"Mask Overlay\", (255,255,255), font=font)\n",
    "overlay_strip = Image.fromarray(np.hstack((np.array(base_image), \n",
    "                                           np.array(mask_image), \n",
    "                                           np.array(composite_image))))\n",
    "overlay_strip"
   ]
  },
  {
   "cell_type": "code",
   "execution_count": null,
   "metadata": {},
   "outputs": [],
   "source": []
  }
 ],
 "metadata": {
  "kernelspec": {
   "display_name": "Python 3 (ipykernel)",
   "language": "python",
   "name": "python3"
  },
  "language_info": {
   "codemirror_mode": {
    "name": "ipython",
    "version": 3
   },
   "file_extension": ".py",
   "mimetype": "text/x-python",
   "name": "python",
   "nbconvert_exporter": "python",
   "pygments_lexer": "ipython3",
   "version": "3.10.6"
  },
  "vscode": {
   "interpreter": {
    "hash": "25805c566da43252b7de11740a944b96009c8d258398a02e53348b97131c96fe"
   }
  }
 },
 "nbformat": 4,
 "nbformat_minor": 1
}
