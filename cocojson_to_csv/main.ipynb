{
 "cells": [
  {
   "cell_type": "markdown",
   "id": "24e6def3-f7f0-4d2d-a062-4f34cce6e5a7",
   "metadata": {},
   "source": [
    "## COCO JSON to CSV Conversion\n",
    "\n",
    "This notebook illustrates an example to generate a CSV for gold standard upload from a COCO JSON file. This example uses:\n",
    "\n",
    "- `json` and `csv` libraries for file handling\n",
    "- `pandas` to prepare data for CSV conversion"
   ]
  },
  {
   "cell_type": "code",
   "execution_count": null,
   "id": "4978a3d7-2447-4b0c-937b-552826aaf954",
   "metadata": {
    "scrolled": true
   },
   "outputs": [],
   "source": [
    "# # Imports\n",
    "import json\n",
    "import csv\n",
    "import pandas as pd"
   ]
  },
  {
   "cell_type": "code",
   "execution_count": null,
   "id": "b3f91520-1548-44f9-ab5d-7bdb516c91ae",
   "metadata": {},
   "outputs": [],
   "source": [
    "# # Variables\n",
    "\n",
    "# Set the category id (from the COCO JSON data) to limit the output\n",
    "# Use None to include all categories\n",
    "category_id = None\n",
    "\n",
    "# Path to the COCO JSON file\n",
    "coco_json_path = './example/input/example.json'\n",
    "\n",
    "# Path for the output CSV file\n",
    "csv_path = './example/output/example.csv'\n",
    "\n",
    "# Prefix to prepend to the file names in the CSV output\n",
    "origin_prefix = 'example_prefix/'"
   ]
  },
  {
   "cell_type": "code",
   "execution_count": null,
   "id": "726afbc0-a579-472d-ae09-7396a110b75b",
   "metadata": {},
   "outputs": [],
   "source": [
    "# # Convert bbox data to WKT polgyon\n",
    "\n",
    "def bbox_to_wkt(bbox, width, height):\n",
    "    # Scale the bbox coordinates relative to the image size\n",
    "    x_min, y_min, bbox_width, bbox_height = bbox\n",
    "    x_min_rel = (x_min / width) * 100\n",
    "    y_min_rel = (y_min / height) * 100\n",
    "    x_max_rel = ((x_min + bbox_width) / width) * 100\n",
    "    y_max_rel = ((y_min + bbox_height) / height) * 100\n",
    "    # Return the WKT polygon string based on the relative coordinates\n",
    "    return f\"POLYGON(({x_min_rel} {y_min_rel}, {x_min_rel} {y_max_rel}, {x_max_rel} {y_max_rel}, {x_max_rel} {y_min_rel}, {x_min_rel} {y_min_rel}))\"\n"
   ]
  },
  {
   "cell_type": "code",
   "execution_count": null,
   "id": "33568ad7-d4e8-4f19-b1fc-bc62349b19bf",
   "metadata": {},
   "outputs": [],
   "source": [
    "# # Extract images and annotations data from COCO JSON file\n",
    "\n",
    "def parse_coco_json_data():\n",
    "    with open(coco_json_path, 'r') as file:\n",
    "        data = json.load(file)\n",
    "\n",
    "    # Create a dictionary for images to map image_id to file_name, width, and height\n",
    "    images_dict = {image['id']: (image['file_name'], image['width'], image['height']) for image in data['images']}\n",
    "    \n",
    "    annotations_dict = {}\n",
    "    for annotation in data['annotations']:\n",
    "        image_id = annotation['image_id']\n",
    "        \n",
    "        # Skip annotations that don't match the category_id if it's specified\n",
    "        if category_id is not None and annotation.get('category_id') != category_id:\n",
    "            continue\n",
    "\n",
    "        # Skip annotations that are missing the bbox\n",
    "        if 'bbox' not in annotation:\n",
    "            print(f\"No bbox for annotation ID: {annotation['id']} in image ID: {image_id}\")\n",
    "            continue\n",
    "        \n",
    "        # Initialize the list for the image_id if it doesn't exist\n",
    "        if image_id not in annotations_dict:\n",
    "            annotations_dict[image_id] = []\n",
    "        \n",
    "        annotations_dict[image_id].append(annotation['bbox'])\n",
    "\n",
    "    # Filter images_dict to only include images with matching annotations\n",
    "    images_dict = {id: images_dict[id] for id in annotations_dict}\n",
    "\n",
    "    return images_dict, annotations_dict\n"
   ]
  },
  {
   "cell_type": "code",
   "execution_count": null,
   "id": "ef8b64a4-8f4e-4f35-beff-7d3510f8a016",
   "metadata": {},
   "outputs": [],
   "source": [
    "# # Prepare the data to be loaded into the CSV file\n",
    "\n",
    "def prepare_csv_data(images_dict, annotations_dict):\n",
    "    # This list will hold the final output data for the CSV\n",
    "    output_data = []\n",
    "    \n",
    "    # Iterate over the images_dict to create the 'customer_origin' and 'answer' data\n",
    "    for image_id, image_data in images_dict.items():\n",
    "        file_name, width, height = image_data\n",
    "        \n",
    "        # Create the list of WKT polygons for this image\n",
    "        wkt_strings = []\n",
    "        for bbox in annotations_dict.get(image_id, []):\n",
    "            wkt_polygon = bbox_to_wkt(bbox, width, height)\n",
    "            wkt_strings.append(wkt_polygon)\n",
    "        \n",
    "        # Create a string that represents an array of WKT polygons\n",
    "        answer_string = json.dumps(wkt_strings)\n",
    "        \n",
    "        # Append the data for the current image to the output_data list\n",
    "        output_data.append({\n",
    "            \"case_id\": None,\n",
    "            \"content_id\": None,\n",
    "            \"labeling_state\": None,\n",
    "            \"customer_origin\": origin_prefix + file_name,\n",
    "            \"answer\": answer_string,\n",
    "            \"notes\": None\n",
    "        })\n",
    "    \n",
    "    return output_data"
   ]
  },
  {
   "cell_type": "code",
   "execution_count": null,
   "id": "b6488bd5-5241-4347-a4a8-2888be329ba1",
   "metadata": {},
   "outputs": [],
   "source": [
    "# # Create the CSV\n",
    "\n",
    "def write_to_csv(data):\n",
    "    # Convert the list of dictionaries to a pandas DataFrame\n",
    "    df = pd.DataFrame(data)\n",
    "    # Write the DataFrame to a CSV file\n",
    "    df.to_csv(csv_path, index=False, quoting=csv.QUOTE_MINIMAL)"
   ]
  },
  {
   "cell_type": "code",
   "execution_count": null,
   "id": "e5830ce2-8013-4e47-99b3-4334e6dfc219",
   "metadata": {},
   "outputs": [],
   "source": [
    "images_dict, annotations_dict = parse_coco_json_data()\n",
    "output_data = prepare_csv_data(images_dict, annotations_dict)\n",
    "write_to_csv(output_data)"
   ]
  }
 ],
 "metadata": {
  "kernelspec": {
   "display_name": "Python 3 (ipykernel)",
   "language": "python",
   "name": "python3"
  },
  "language_info": {
   "codemirror_mode": {
    "name": "ipython",
    "version": 3
   },
   "file_extension": ".py",
   "mimetype": "text/x-python",
   "name": "python",
   "nbconvert_exporter": "python",
   "pygments_lexer": "ipython3",
   "version": "3.12.0"
  }
 },
 "nbformat": 4,
 "nbformat_minor": 5
}
