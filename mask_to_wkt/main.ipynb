{
 "cells": [
  {
   "cell_type": "markdown",
   "metadata": {},
   "source": [
    "## Segmentation Mask to WKT\n",
    "\n",
    "This notebook illustrates an example to extract segmentation geometries (polygons) in WKT format from a grayscale image mask.\n",
    "\n",
    "This example uses:  \n",
    "- `PIL` library for image I/O  \n",
    "- `imatics` to extract mask geometry coordinates \n",
    "- `shapely` for post-processing extracted polygons and exporting into WKT format\n",
    "\n",
    "You can dump extracted mask segmentations as a json file. \n",
    "Extracted WKTs are visualized on the base image to verify successful extraction at the end.\n",
    "The WKTs generated from this script will be formatted with absolute coordinates. To use\n",
    "these geometries with Centaur products you must first convert them to relative coordinates.\n",
    "Check out the coordinate conversion recpie (@TODO: link recipe) to perform the conversion."
   ]
  },
  {
   "cell_type": "code",
   "execution_count": null,
   "metadata": {},
   "outputs": [],
   "source": [
    "# imports\n",
    "import numpy as np\n",
    "from PIL import Image\n",
    "\n",
    "import imantics\n",
    "import shapely.wkt\n",
    "import shapely.geometry\n",
    "import shapely.validation"
   ]
  },
  {
   "cell_type": "code",
   "execution_count": null,
   "metadata": {},
   "outputs": [],
   "source": [
    "BASE_IMAGE_FILE_PATH = \"./example/input/example_base.png\"\n",
    "MASK_IMAGE_FILE_PATH = \"./example/input/example_mask.png\"\n",
    "\n",
    "JSON_OUTPUT_PATH = \"./example/output/example_mask_wkt.json\""
   ]
  },
  {
   "cell_type": "markdown",
   "metadata": {},
   "source": [
    "### extract wkt segmentations from mask_image"
   ]
  },
  {
   "cell_type": "code",
   "execution_count": null,
   "metadata": {},
   "outputs": [],
   "source": [
    "# load image\n",
    "mask_image = Image.open(MASK_IMAGE_FILE_PATH)\n",
    "# extract pixel_array\n",
    "pixel_array = np.asarray(mask_image)\n",
    "# identify mask pixels\n",
    "distinct_pixels_values = np.unique(pixel_array)\n",
    "mask_pixels = distinct_pixels_values[distinct_pixels_values.nonzero()]\n",
    "\n",
    "mask_segmentations = []\n",
    "for focus_mask_pixel in mask_pixels:\n",
    "    # isolate mask pixel\n",
    "    pixel_array_copy = pixel_array.copy()\n",
    "    pixel_array_copy[pixel_array_copy != focus_mask_pixel] = 0\n",
    "\n",
    "    # extract mask\n",
    "    mask_polygon = imantics.Mask(pixel_array_copy).polygons().points[0]\n",
    "    # post-process masks into valid wkts\n",
    "    mask_polygon = shapely.geometry.Polygon(mask_polygon)\n",
    "    valid_mask_polygon = shapely.validation.make_valid(mask_polygon)\n",
    "    simplified_valid_mask_polygon = valid_mask_polygon.simplify(\n",
    "        tolerance=2, preserve_topology=True\n",
    "    )\n",
    "    focus_mask_wkt = shapely.wkt.dumps(simplified_valid_mask_polygon, trim=True)\n",
    "\n",
    "    # add extracted masks to json object\n",
    "    focus_mask_dict = {\n",
    "        \"mask_pixel\": focus_mask_pixel.item(),\n",
    "        \"mask_wkt\": focus_mask_wkt,\n",
    "    }\n",
    "    mask_segmentations.append(focus_mask_dict)\n",
    "\n",
    "mask_segmentations"
   ]
  },
  {
   "cell_type": "code",
   "execution_count": null,
   "metadata": {},
   "outputs": [],
   "source": [
    "# dump extracted mask segmentations as json\n",
    "import json\n",
    "\n",
    "with open(JSON_OUTPUT_PATH, \"w\", encoding=\"utf-8\") as fp:\n",
    "    json.dump(mask_segmentations, fp, ensure_ascii=False, indent=4)"
   ]
  },
  {
   "cell_type": "markdown",
   "metadata": {},
   "source": [
    "### visualize extracted wkts on base image"
   ]
  },
  {
   "cell_type": "code",
   "execution_count": null,
   "metadata": {},
   "outputs": [],
   "source": [
    "from PIL import ImageDraw, ImageFont\n",
    "from matplotlib import cm, font_manager\n",
    "\n",
    "# load base image\n",
    "base_image = Image.open(BASE_IMAGE_FILE_PATH)\n",
    "cmap = cm.get_cmap(\"hsv\")\n",
    "font = font_manager.FontProperties(family=\"sans-serif\", weight=\"bold\")\n",
    "font = ImageFont.truetype(font_manager.findfont(font), 48)\n",
    "\n",
    "# overlay mask\n",
    "mask_overlay = base_image.copy()\n",
    "for mask in mask_segmentations:\n",
    "    poly_coords = list(shapely.wkt.loads(mask[\"mask_wkt\"]).exterior.coords)\n",
    "    ImageDraw.Draw(mask_overlay).polygon(\n",
    "        poly_coords, outline=cmap(mask[\"mask_pixel\"], bytes=True), width=2\n",
    "    )\n",
    "\n",
    "# show overlay\n",
    "ImageDraw.Draw(base_image).text((100, 100), \"Base Image\", (255, 255, 255), font=font)\n",
    "ImageDraw.Draw(mask_image := mask_image.convert(\"RGBA\")).text(\n",
    "    (100, 100), \"Mask Image\", (255, 255, 255), font=font\n",
    ")\n",
    "ImageDraw.Draw(mask_overlay).text(\n",
    "    (100, 100), \"Mask Overlay\", (255, 255, 255), font=font\n",
    ")\n",
    "overlay_strip = Image.fromarray(\n",
    "    np.hstack((np.array(base_image), np.array(mask_image), np.array(mask_overlay)))\n",
    ")\n",
    "overlay_strip"
   ]
  }
 ],
 "metadata": {
  "language_info": {
   "codemirror_mode": {
    "name": "ipython"
   },
   "file_extension": ".py",
   "mimetype": "text/x-python",
   "name": "python",
   "nbconvert_exporter": "python"
  }
 },
 "nbformat": 4,
 "nbformat_minor": 1
}
