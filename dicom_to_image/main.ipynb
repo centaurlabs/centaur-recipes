{
 "cells": [
  {
   "cell_type": "markdown",
   "metadata": {},
   "source": [
    "## DICOM to Image\n",
    "\n",
    "This notebook demonstrates how to convert a Digital Imaging and Communications in Medicine (DICOM) file to one or more images in PNG or JPEG format.\n",
    "\n",
    "This example uses:\n",
    "- `pydicom` library for reading and parsing DICOM files.\n",
    "- `cv2` (installed as `opencv-python`) for image processing, color space conversions, and saving as JPG/PNG.\n",
    "- `numpy` for numerical operations and handling arrays, useful to manipulate image pixel data."
   ]
  },
  {
   "cell_type": "code",
   "execution_count": null,
   "metadata": {},
   "outputs": [],
   "source": [
    "# Imports\n",
    "import pydicom\n",
    "import numpy as np\n",
    "import cv2\n",
    "from os import path"
   ]
  },
  {
   "cell_type": "code",
   "execution_count": null,
   "metadata": {},
   "outputs": [],
   "source": [
    "# DICOM source file (`.dcm` extension).\n",
    "SRC_PATH = \"./example/input/sample_single-frame.dcm\"\n",
    "\n",
    "# Output path to store each frame.\n",
    "OUT_PATH = \"./example/output/\"\n",
    "\n",
    "# Output image type (can be \"png\" or \"jpg\").\n",
    "EXT = \"jpg\""
   ]
  },
  {
   "cell_type": "markdown",
   "metadata": {},
   "source": [
    "### Load DICOM and ensure it contains image data"
   ]
  },
  {
   "cell_type": "markdown",
   "metadata": {},
   "source": [
    "Not all DICOM files necessarily contain image data, because it is a standard format for both images and other medical data as well such as patient information, medical reports, etc. With this code fragment we ensure to only process DICOMs that contain image data."
   ]
  },
  {
   "cell_type": "code",
   "execution_count": null,
   "metadata": {},
   "outputs": [],
   "source": [
    "ds = pydicom.dcmread(SRC_PATH)\n",
    "\n",
    "if \"PixelData\" not in ds:\n",
    "    raise ValueError(\"DICOM file doesn't contain image information.\")"
   ]
  },
  {
   "cell_type": "markdown",
   "metadata": {},
   "source": [
    "### Convert source image type to RGB color space\n",
    "\n",
    "The DICOM file may contain an image that is grayscale, RGB, YBR, or palette color. The code below converts the source image from its respective color space to RGB color space, which is a requirement for creating a PNG or JPG file.\n",
    "\n",
    "Note that the \"PALETTE COLOR\" type is not handled, because it is more complicated and out of the scope of this example notebook."
   ]
  },
  {
   "cell_type": "code",
   "execution_count": null,
   "metadata": {},
   "outputs": [],
   "source": [
    "pixel_array = ds.pixel_array\n",
    "\n",
    "# Handle each source image type.\n",
    "if ds.PhotometricInterpretation == \"MONOCHROME1\":\n",
    "    pixel_array = np.amax(pixel_array) - pixel_array\n",
    "elif ds.PhotometricInterpretation == \"MONOCHROME2\":\n",
    "    pass  # No need to convert because pixel values are already dark-to-bright in ascending order.\n",
    "elif ds.PhotometricInterpretation == \"YBR_FULL\":\n",
    "    pixel_array = cv2.cvtColor(pixel_array, cv2.COLOR_YCrCb2BGR)\n",
    "elif ds.PhotometricInterpretation == \"YBR_FULL_422\":\n",
    "    pixel_array = cv2.cvtColor(\n",
    "        cv2.resize(pixel_array, (pixel_array.shape[1] * 2, pixel_array.shape[0])),\n",
    "        cv2.COLOR_YCrCb2BGR,\n",
    "    )\n",
    "elif ds.PhotometricInterpretation == \"RGB\":\n",
    "    pixel_array = cv2.cvtColor(pixel_array, cv2.COLOR_RGB2BGR)\n",
    "elif ds.PhotometricInterpretation == \"PALETTE COLOR\":\n",
    "    raise NotImplementedError(\"Palette color is not supported.\")\n",
    "\n",
    "# Normalize the pixel array to 0-255 for JPG/PNG.\n",
    "pixel_array = cv2.normalize(pixel_array, None, 0, 255, cv2.NORM_MINMAX, dtype=cv2.CV_8U)"
   ]
  },
  {
   "cell_type": "markdown",
   "metadata": {},
   "source": [
    "### Save DICOM frames to the output folder"
   ]
  },
  {
   "cell_type": "code",
   "execution_count": null,
   "metadata": {},
   "outputs": [],
   "source": [
    "n = 0\n",
    "\n",
    "if hasattr(ds, \"NumberOfFrames\") and ds.NumberOfFrames > 1:\n",
    "    for idx, frame in enumerate(pixel_array):\n",
    "        cv2.imwrite(path.join(OUT_PATH, f\"frame_{idx}.{EXT}\"), frame)\n",
    "        n += 1\n",
    "else:\n",
    "    cv2.imwrite(path.join(OUT_PATH, f\"frame.{EXT}\"), pixel_array)\n",
    "    n += 1\n",
    "\n",
    "print(f\"Total {n} frame(s) saved to {OUT_PATH}\")"
   ]
  }
 ],
 "metadata": {
  "language_info": {
   "codemirror_mode": {
    "name": "ipython"
   },
   "file_extension": ".py",
   "mimetype": "text/x-python",
   "name": "python",
   "nbconvert_exporter": "python"
  }
 },
 "nbformat": 4,
 "nbformat_minor": 1
}
