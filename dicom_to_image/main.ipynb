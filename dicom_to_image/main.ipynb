{
 "cells": [
  {
   "cell_type": "markdown",
   "metadata": {},
   "source": [
    "## DICOM to Image\n",
    "\n",
    "This notebook demonstrates how to convert a Digital Imaging and Communications in Medicine (DICOM) file to one or more images in PNG or JPEG format.\n",
    "\n",
    "This example uses:\n",
    "- `pydicom` library for reading and parsing DICOM files.\n",
    "- `cv2` (installed as `opencv-python`) for image processing, color space conversions, and saving as JPG/PNG.\n",
    "- `numpy` for numerical operations and handling arrays, useful to manipulate image pixel data."
   ]
  },
  {
   "cell_type": "code",
   "execution_count": null,
   "metadata": {},
   "outputs": [],
   "source": [
    "# Imports\n",
    "from pydicom.pixel_data_handlers.util import (\n",
    "    apply_voi_lut,\n",
    "    convert_color_space,\n",
    "    apply_modality_lut,\n",
    ")\n",
    "from pathlib import Path\n",
    "\n",
    "import numpy as np\n",
    "import pydicom\n",
    "import cv2"
   ]
  },
  {
   "cell_type": "code",
   "execution_count": null,
   "metadata": {},
   "outputs": [],
   "source": [
    "# DICOM source file (`.dcm` extension).\n",
    "SRC_PATH = \"./example/input/sample_ybr_full_422_2.dcm\"\n",
    "\n",
    "# Output path to store each frame.\n",
    "OUT_PATH = Path(\"./example/output/\")\n",
    "\n",
    "# Output image type (can be \"png\" or \"jpg\").\n",
    "EXT = \"jpg\""
   ]
  },
  {
   "cell_type": "markdown",
   "metadata": {},
   "source": [
    "### Load DICOM file and its image data"
   ]
  },
  {
   "cell_type": "code",
   "execution_count": null,
   "metadata": {},
   "outputs": [],
   "source": [
    "ds = pydicom.dcmread(SRC_PATH)\n",
    "pixel_array = ds.pixel_array"
   ]
  },
  {
   "cell_type": "markdown",
   "metadata": {},
   "source": [
    "### Apply Modality LUT\n",
    "\n",
    "DICOMs may contain a Modality Look-Up Table (LUT) to transform **raw data** from imaging devices into standardized units (i.e. Hounsfield units which quantify tissue density) also known as \"modality-specific values\" to ensure consistency regardless of the device used to acquire the image."
   ]
  },
  {
   "cell_type": "code",
   "execution_count": null,
   "metadata": {},
   "outputs": [],
   "source": [
    "if \"ModalityLutSequence\" in ds or (\"RescaleSlope\" in ds and \"RescaleIntercept\" in ds):\n",
    "    pixel_array = apply_modality_lut(pixel_array, ds)\n",
    "else:\n",
    "    rescale_slope = ds.get(\"RescaleSlope\") or 1.0\n",
    "    rescale_intercept = ds.get(\"RescaleIntercept\") or 0.0\n",
    "    pixel_array = pixel_array * rescale_slope + rescale_intercept"
   ]
  },
  {
   "cell_type": "markdown",
   "metadata": {},
   "source": [
    "### Apply VOI LUT or Window Level\n",
    "\n",
    "DICOMs may contain a VOI LUT (Value of Interest Look-Up Table) to transform modality-specific values into pixel values that best reflect the desired content or area of interest. For example, to enhance specific features in medical images to highlighting tumors or blood vessels."
   ]
  },
  {
   "cell_type": "code",
   "execution_count": null,
   "metadata": {},
   "outputs": [],
   "source": [
    "pixel_array = pixel_array.astype(\"int\")\n",
    "pixel_array = apply_voi_lut(pixel_array, ds)"
   ]
  },
  {
   "cell_type": "markdown",
   "metadata": {},
   "source": [
    "### Convert source image type to RGB color space\n",
    "\n",
    "The DICOM file may contain an image that is grayscale (MONOCHROME1 or MONOCHROME2), RGB, YBR, or palette color. The code below converts the source image from its respective color space to RGB color space, which is a requirement for creating a PNG or JPG file.\n",
    "\n",
    "- The \"PALETTE COLOR\" type is not handled, as it is more complicated and out of the scope of this example notebook.\n",
    "- The \"MONOCHROME2\" type does not need conversion because pixel values are already dark-to-bright in ascending order.\n",
    "- And the \"RGB\" type is already in the target color space."
   ]
  },
  {
   "cell_type": "code",
   "execution_count": null,
   "metadata": {},
   "outputs": [],
   "source": [
    "# Handle each source image type.\n",
    "image_type = ds.get(\"PhotometricInterpretation\")\n",
    "\n",
    "if image_type == \"MONOCHROME1\":\n",
    "    pixel_array = np.amax(pixel_array) - pixel_array\n",
    "elif image_type in (\"RGB\", \"YBR_FULL\", \"YBR_FULL_422\"):\n",
    "    pixel_array = convert_color_space(pixel_array, image_type, \"RGB\").astype(\"float32\")\n",
    "    pixel_array = cv2.cvtColor(pixel_array, cv2.COLOR_RGB2BGR)\n",
    "\n",
    "# Normalize the pixel array to values ranging from 0 to 255 for JPG/PNG.\n",
    "pixel_array = cv2.normalize(pixel_array, None, 0, 255, cv2.NORM_MINMAX, dtype=cv2.CV_8U)"
   ]
  },
  {
   "cell_type": "markdown",
   "metadata": {},
   "source": [
    "### Save DICOM frames to the output folder"
   ]
  },
  {
   "cell_type": "code",
   "execution_count": null,
   "metadata": {},
   "outputs": [],
   "source": [
    "if ds.get(\"NumberOfFrames\", 1) > 1:\n",
    "    for idx, frame in enumerate(pixel_array):\n",
    "        cv2.imwrite(str(OUT_PATH / f\"frame_{idx}.{EXT}\"), frame)\n",
    "else:\n",
    "    cv2.imwrite(str(OUT_PATH / f\"frame.{EXT}\"), pixel_array)"
   ]
  }
 ],
 "metadata": {
  "language_info": {
   "codemirror_mode": {
    "name": "ipython"
   },
   "file_extension": ".py",
   "mimetype": "text/x-python",
   "name": "python",
   "nbconvert_exporter": "python"
  }
 },
 "nbformat": 4,
 "nbformat_minor": 1
}
