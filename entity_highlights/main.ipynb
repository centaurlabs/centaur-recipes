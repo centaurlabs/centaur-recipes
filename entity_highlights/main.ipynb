{
 "cells": [
  {
   "cell_type": "markdown",
   "metadata": {},
   "source": [
    "# Entity highlighting"
   ]
  },
  {
   "cell_type": "markdown",
   "metadata": {},
   "source": [
    "Given a csv of the form\n",
    "\n",
    "```\n",
    "origin,text,entity_ranges\n",
    "0,\"an example of highlighted text\",\"[[3, 10], [14, 25]]\"\n",
    "```\n",
    "or a JSON file of the form\n",
    "```\n",
    "[\n",
    "  {\n",
    "    \"origin\": 0,\n",
    "    \"text\": \"an example of highlighted text\",\n",
    "    \"entity_ranges\": [\n",
    "      [3, 10],\n",
    "      [14, 25]\n",
    "    ]\n",
    "  }\n",
    "]\n",
    "```\n",
    "\n",
    "you can transform it into:\n",
    "\n",
    "\"an <mark><u><b>example</b></u></mark> of <mark><u><b>highlighted</b></u></mark> text\"\n",
    "\n",
    "## NOTE: Ensure that the entity ranges do not overlap each other!"
   ]
  },
  {
   "cell_type": "code",
   "execution_count": null,
   "metadata": {},
   "outputs": [],
   "source": [
    "import ast\n",
    "import pandas as pd"
   ]
  },
  {
   "cell_type": "code",
   "execution_count": null,
   "metadata": {},
   "outputs": [],
   "source": [
    "def apply_highlight(text, ranges):\n",
    "    mark_start = \"<mark><u><b>\"\n",
    "    mark_end = \"</b></u></mark>\"\n",
    "\n",
    "    html_template = \"<html>\\n <body>\\n  {}\\n </body>\\n</html>\\n\"\n",
    "\n",
    "    # process ranges in reverse to make it easier to handle indices\n",
    "    for i, j in sorted(ranges, reverse=True):\n",
    "        text = text[:j] + mark_end + text[j:]\n",
    "        text = text[:i] + mark_start + text[i:]\n",
    "\n",
    "    return html_template.format(text)"
   ]
  },
  {
   "cell_type": "code",
   "execution_count": null,
   "metadata": {},
   "outputs": [],
   "source": [
    "# # For CSV\n",
    "csv_input_path = \"./example/input/example.csv\"\n",
    "csv_output_path = \"./example/output/example.csv\"\n",
    "\n",
    "data = pd.read_csv(csv_input_path, converters={\"entity_ranges\": ast.literal_eval})\n",
    "data[\"html\"] = data.apply(\n",
    "    lambda x: apply_highlight(x[\"text\"], x[\"entity_ranges\"]), axis=1\n",
    ")\n",
    "data[[\"origin\", \"html\"]].to_csv(csv_output_path, index=False)"
   ]
  },
  {
   "cell_type": "code",
   "execution_count": null,
   "metadata": {},
   "outputs": [],
   "source": [
    "# #  For JSON\n",
    "json_input_path = \"./example/input/example.json\"\n",
    "json_output_path = \"./example/output/example.json\"\n",
    "\n",
    "data = pd.read_json(json_input_path)\n",
    "data[\"html\"] = data.apply(\n",
    "    lambda x: apply_highlight(x[\"text\"], x[\"entity_ranges\"]), axis=1\n",
    ")\n",
    "data[[\"origin\", \"html\"]].to_json(json_output_path, orient=\"records\", indent=2)"
   ]
  },
  {
   "cell_type": "code",
   "execution_count": null,
   "metadata": {},
   "outputs": [],
   "source": [
    "# Visualization\n",
    "import IPython.display\n",
    "\n",
    "print(data[\"html\"][0])\n",
    "IPython.display.HTML(data[\"html\"][0])"
   ]
  }
 ],
 "metadata": {
  "language_info": {
   "codemirror_mode": {
    "name": "ipython"
   },
   "file_extension": ".py",
   "mimetype": "text/x-python",
   "name": "python",
   "nbconvert_exporter": "python"
  }
 },
 "nbformat": 4,
 "nbformat_minor": 1
}
