{
 "cells": [
  {
   "cell_type": "markdown",
   "id": "55dc7fa8-aa4c-4748-8a2f-c98b030e22fe",
   "metadata": {},
   "source": [
    "## Express Import API Call\n",
    "This notebook illustrates an example to directly import an S3 asset and add it into a task in a project in one call. This example uses:\n",
    "\n",
    "- `requests` library for API calls\n"
   ]
  },
  {
   "cell_type": "code",
   "execution_count": null,
   "id": "257a0f4c-ccc4-46d8-acbe-5c6e51e4aad8",
   "metadata": {},
   "outputs": [],
   "source": [
    "# Import required libraries\n",
    "import requests"
   ]
  },
  {
   "cell_type": "code",
   "execution_count": null,
   "id": "6a220865-60c8-4b47-afb1-b2a21185ebf3",
   "metadata": {},
   "outputs": [],
   "source": [
    "# API URLs\n",
    "auth_url = \"https://api.centaurlabs.com/auth/public/v1/login\"\n",
    "imports_url = \"https://api.centaurlabs.com/imports/public/v1/add\""
   ]
  },
  {
   "cell_type": "code",
   "execution_count": null,
   "id": "95f11d84-2b69-41e2-ba7e-2cf2b9eb803f",
   "metadata": {},
   "outputs": [],
   "source": [
    "# Parameters for headers\n",
    "email = \"your_portal_email\"  # Replace with your Centaur Email\n",
    "api_key = \"your_api_key_here\"  # Replace with your Centaur API key\n",
    "api_password = \"your_api_password_here\"  # Replace with your Centaur API password (not your portal password)\n",
    "\n",
    "# Asset parameters\n",
    "s3_uri = \"s3://s3_uri\" # Replace with your s3 URI\n",
    "s3_region = \"us-east-2\" # Replace with your S3 Region"
   ]
  },
  {
   "cell_type": "code",
   "execution_count": null,
   "id": "e1273d34-32c1-492a-8be4-a4c20b89554d",
   "metadata": {},
   "outputs": [],
   "source": [
    "# Function to get the authentication token\n",
    "def get_auth_token(email, password, key):\n",
    "    payload = {\"username\": email, \"api_password\": password}\n",
    "    headers = {\"X-API-KEY\": key}\n",
    "    response = requests.post(auth_url, headers=headers, json=payload)\n",
    "    if response.status_code == 200:\n",
    "        return response.json().get(\"token\")\n",
    "    else:\n",
    "        raise Exception(f\"Authentication failed: {response.json()}\")"
   ]
  },
  {
   "cell_type": "code",
   "execution_count": null,
   "id": "18425218-50ce-41a7-a6a2-becb09ce4177",
   "metadata": {},
   "outputs": [],
   "source": [
    "# Function to run the express import into tasks\n",
    "def add_import(key, token, project_id, uri, region):\n",
    "    headers = {\"Authorization\": f\"Bearer {token}\", \"X-API-KEY\": key}\n",
    "    payload = {\n",
    "          \"project_id\": project_id,\n",
    "          \"source_type\": \"s3\",\n",
    "          \"source_region\": region,\n",
    "          \"uri\": uri\n",
    "    }\n",
    "    response = requests.post(imports_url, headers=headers, json=payload)\n",
    "    if response.status_code == 200:\n",
    "        print(\"Import added successfully:\", response.json())\n",
    "    else:\n",
    "        raise Exception(f\"Failed to add import: {response.json()}\")"
   ]
  },
  {
   "cell_type": "code",
   "execution_count": null,
   "id": "53d10c51-bc62-4d89-8455-b0d2c6e8cf77",
   "metadata": {},
   "outputs": [],
   "source": [
    "try:\n",
    "    # Step 1: Authenticate and get token\n",
    "    token = get_auth_token(email, api_password, api_key)\n",
    "    print(f\"Authentication successful with token {token}\")\n",
    "\n",
    "    # Step 2: Get project ID from the user\n",
    "    project_id = input(\"Enter the project ID: \")\n",
    "\n",
    "    # Step 3: Add an import to the project\n",
    "    if project_id:\n",
    "        add_import(api_key, token, project_id, s3_uri, s3_region)\n",
    "    else:\n",
    "        print(\"No project to add import to\")\n",
    "    \n",
    "except Exception as e:\n",
    "    print(\"An error occurred:\", str(e))"
   ]
  },
  {
   "cell_type": "code",
   "execution_count": null,
   "id": "1e3c7e4a-bfe2-432d-becd-e51bb3249972",
   "metadata": {},
   "outputs": [],
   "source": []
  }
 ],
 "metadata": {
  "kernelspec": {
   "display_name": "IngestPY",
   "language": "python",
   "name": "python12"
  },
  "language_info": {
   "codemirror_mode": {
    "name": "ipython",
    "version": 3
   },
   "file_extension": ".py",
   "mimetype": "text/x-python",
   "name": "python",
   "nbconvert_exporter": "python",
   "pygments_lexer": "ipython3",
   "version": "3.12.7"
  }
 },
 "nbformat": 4,
 "nbformat_minor": 5
}
