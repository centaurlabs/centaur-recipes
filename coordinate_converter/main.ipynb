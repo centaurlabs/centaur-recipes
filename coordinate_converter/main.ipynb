{
 "cells": [
  {
   "cell_type": "markdown",
   "metadata": {},
   "source": [
    "## Coordinate Converter\n",
    "\n",
    "This notebook demonstrates how to convert coordinates in WKT strings from **relative** space to **absolute** space and vice versa.\n",
    "\n",
    "By **relative space** we refer to the coordinate space where each ordered-pair `(x, y)` has values in the `[0 .. 100]` closed interval, such that `(0, 0)` is the top-left corner of the image and `(100, 100)` is the bottom right.\n",
    "\n",
    "And by **absolute space** we refer to the coordinate space where each ordered-pair `(x, y)` has values in the `[0 .. width]` and `[0 .. height]` closed intervals respectively, such that `(0, 0)` is the top-left corner of the image and `(width, height)` is the bottom right, this is also known as \"pixel space\".\n",
    "\n",
    "This example uses:\n",
    "- `shapely` library to parse WKT strings."
   ]
  },
  {
   "cell_type": "code",
   "execution_count": null,
   "metadata": {},
   "outputs": [],
   "source": [
    "# Imports\n",
    "from os import path\n",
    "import json\n",
    "\n",
    "from shapely.affinity import scale\n",
    "from shapely import wkt\n"
   ]
  },
  {
   "cell_type": "code",
   "execution_count": 10,
   "metadata": {},
   "outputs": [],
   "source": [
    "# Function to scale coordinates of a WKT geometry.\n",
    "def wkt_scale (wkt_string, x_scale, y_scale):\n",
    "    geometry = wkt.loads(wkt_string)\n",
    "    geometry = scale(geometry, xfact=x_scale, yfact=y_scale, origin=(0, 0))\n",
    "    return geometry.wkt"
   ]
  },
  {
   "cell_type": "markdown",
   "metadata": {},
   "source": [
    "### Convert absolute → relative coordinate space."
   ]
  },
  {
   "cell_type": "code",
   "execution_count": 14,
   "metadata": {},
   "outputs": [
    {
     "name": "stdout",
     "output_type": "stream",
     "text": [
      "POLYGON ((0 0.5, 0 1, 1 1, 1 0.5, 0 0.5))\n"
     ]
    }
   ],
   "source": [
    "# Source WKT geometry in `absolute` coordinates.\n",
    "wkt_string = 'POLYGON ((0 500, 0 1000, 1000 1000, 1000 500, 0 500))'\n",
    "width = 1000\n",
    "height = 1000\n",
    "\n",
    "# Scale the WKT geometry to `relative` coordinates.\n",
    "scaled_wkt_string = wkt_scale(wkt_string, 100.0 / width, 100.0 / height)\n",
    "print(scaled_wkt_string)"
   ]
  },
  {
   "cell_type": "markdown",
   "metadata": {},
   "source": [
    "### Convert relative → absolute coordinate space."
   ]
  },
  {
   "cell_type": "code",
   "execution_count": 15,
   "metadata": {},
   "outputs": [
    {
     "name": "stdout",
     "output_type": "stream",
     "text": [
      "POLYGON ((0 500, 0 1000, 1000 1000, 1000 500, 0 500))\n"
     ]
    }
   ],
   "source": [
    "# Source WKT geometry in `relative` coordinates.\n",
    "wkt_string = 'POLYGON ((0 0.5, 0 1, 1 1, 1 0.5, 0 0.5))'\n",
    "width = 1000\n",
    "height = 1000\n",
    "\n",
    "# Scale the WKT geometry to `absolute` coordinates.\n",
    "scaled_wkt_string = wkt_scale(wkt_string, width, height)\n",
    "print(scaled_wkt_string)"
   ]
  }
 ],
 "metadata": {
  "kernelspec": {
   "display_name": ".venv",
   "language": "python",
   "name": "python3"
  },
  "language_info": {
   "codemirror_mode": {
    "name": "ipython",
    "version": 3
   },
   "file_extension": ".py",
   "mimetype": "text/x-python",
   "name": "python",
   "nbconvert_exporter": "python",
   "pygments_lexer": "ipython3",
   "version": "3.11.5"
  }
 },
 "nbformat": 4,
 "nbformat_minor": 1
}
