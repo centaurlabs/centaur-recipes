{
 "cells": [
  {
   "cell_type": "code",
   "execution_count": 1,
   "id": "6616ba09-f224-4f44-a869-9d4bd1e05faa",
   "metadata": {},
   "outputs": [],
   "source": [
    "import re"
   ]
  },
  {
   "cell_type": "code",
   "execution_count": 2,
   "id": "e8ba2346-a991-4d2c-9c41-1fe61c16b1f2",
   "metadata": {},
   "outputs": [],
   "source": [
    "def find_centers(input_geometries):\n",
    "    \"\"\"\n",
    "    Process a list of CIRCULARSTRING geometries and compute the center of each circular arc.\n",
    "\n",
    "    Parameters:\n",
    "    - input_geometries (list): A list of strings containing CIRCULARSTRING geometries.\n",
    "\n",
    "    Returns:\n",
    "    - list: A list of dictionaries containing the computed center coordinates.\n",
    "    \"\"\"\n",
    "    centers = []  # Store centers for each geometry\n",
    "\n",
    "    for input_geometry in input_geometries:\n",
    "        if not input_geometry.startswith(\"CIRCULARSTRING\"):\n",
    "            raise ValueError(f'Invalid geometry: \"{input_geometry}\" must start with \"CIRCULARSTRING\".')\n",
    "\n",
    "        # Extract coordinates from the input\n",
    "        coordinate_string = re.sub(r\"[()]\", \"\", input_geometry.replace(\"CIRCULARSTRING\", \"\").strip())\n",
    "\n",
    "        # Convert the coordinate string into a list of (x, y) pairs\n",
    "        coordinates = [\n",
    "            list(map(float, coord.strip().split())) for coord in coordinate_string.split(\",\")\n",
    "        ]\n",
    "\n",
    "        # Validate coordinates\n",
    "        if len(coordinates) != 3:\n",
    "            raise ValueError(f'Invalid geometry: \"{input_geometry}\" must contain exactly three coordinate pairs.')\n",
    "\n",
    "        start, end, closing = coordinates\n",
    "\n",
    "        # Ensure the first and third points are the same (valid circular arc)\n",
    "        if start[0] != closing[0] or start[1] != closing[1]:\n",
    "            raise ValueError(f'Invalid geometry: \"{input_geometry}\" - The first and third coordinates must be identical.')\n",
    "\n",
    "        # Calculate the center of the arc (midpoint of start and middle points)\n",
    "        center_x = round((start[0] + end[0]) / 2, 7)\n",
    "        center_y = round((start[1] + end[1]) / 2, 7)\n",
    "\n",
    "        # Store the result\n",
    "        centers.append({\"geometry\": input_geometry, \"center\": {\"x\": center_x, \"y\": center_y}})\n",
    "\n",
    "    return centers"
   ]
  },
  {
   "cell_type": "code",
   "execution_count": 3,
   "id": "1984ec56-8fa4-4798-9564-3750bd6c3e1a",
   "metadata": {},
   "outputs": [
    {
     "name": "stdout",
     "output_type": "stream",
     "text": [
      "[{'geometry': 'CIRCULARSTRING (48.3160321 40.0467466, 50.1013345 40.0467466, 48.3160321 40.0467466)', 'center': {'x': 49.2086833, 'y': 40.0467466}}]\n"
     ]
    }
   ],
   "source": [
    "# Example Usage\n",
    "input_geometries = ['CIRCULARSTRING (48.3160321 40.0467466, 50.1013345 40.0467466, 48.3160321 40.0467466)']\n",
    "center = find_centers(input_geometries)\n",
    "print(center)"
   ]
  },
  {
   "cell_type": "code",
   "execution_count": null,
   "id": "da73571a-aa53-4306-961b-b71a1a869da9",
   "metadata": {},
   "outputs": [],
   "source": []
  }
 ],
 "metadata": {
  "kernelspec": {
   "display_name": "IngestPY",
   "language": "python",
   "name": "python12"
  },
  "language_info": {
   "codemirror_mode": {
    "name": "ipython",
    "version": 3
   },
   "file_extension": ".py",
   "mimetype": "text/x-python",
   "name": "python",
   "nbconvert_exporter": "python",
   "pygments_lexer": "ipython3",
   "version": "3.12.7"
  }
 },
 "nbformat": 4,
 "nbformat_minor": 5
}
