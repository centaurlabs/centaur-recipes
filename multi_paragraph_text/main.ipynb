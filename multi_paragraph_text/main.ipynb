{
 "cells": [
  {
   "cell_type": "markdown",
   "metadata": {},
   "source": [
    "# Multi-paragraph text\n"
   ]
  },
  {
   "cell_type": "markdown",
   "metadata": {},
   "source": [
    "Given a csv of the form\n",
    "\n",
    "```\n",
    "origin,section_1,section_2,section_3\n",
    "0,\"here is text for the first section\",\"and some text for the second section\",\"finally, text for the last section\"\n",
    "```\n",
    "or a JSON file of the form\n",
    "```\n",
    "[\n",
    "  {\n",
    "    \"origin\": 0,\n",
    "    \"section_1\": \"here is text for the first section\",\n",
    "    \"section_2\": \"and some text for the second section\",\n",
    "    \"section_3\": \"finally, text for the last section\"\n",
    "  }\n",
    "]\n",
    "```\n",
    "\n",
    "you can transform it into:\n",
    "\n",
    "<p><b>section_1:</b> here is text for the first section</p>\n",
    "<p><b>section_2:</b> and some text for the second section</p>\n",
    "<p><b>section_3:</b> finally, text for the last section</p>\n"
   ]
  },
  {
   "cell_type": "code",
   "execution_count": null,
   "metadata": {},
   "outputs": [],
   "source": [
    "import pandas as pd"
   ]
  },
  {
   "cell_type": "code",
   "execution_count": null,
   "metadata": {},
   "outputs": [],
   "source": [
    "def apply_sections(x, origin_col=\"origin\"):\n",
    "    section = \"<p><b>{}:</b> {}</p>\\n\"\n",
    "    html = \"<html>\\n <body>\\n  {} </body>\\n</html>\"\n",
    "\n",
    "    sections = \"  \".join(\n",
    "        section.format(col, val) for col, val in x.items() if col != origin_col\n",
    "    )\n",
    "    return html.format(sections)\n",
    "\n",
    "\n",
    "# The origin column should be a unique identifier for each row of data\n",
    "# If you need a paragraph section with the label 'origin', rename the\n",
    "# identifier column and then copy it to the variable below\n",
    "ORIGIN_COL = \"origin\""
   ]
  },
  {
   "cell_type": "code",
   "execution_count": null,
   "metadata": {},
   "outputs": [],
   "source": [
    "# # For CSV\n",
    "csv_input_path = \"./example/input/example.csv\"\n",
    "csv_output_path = \"./example/output/example.csv\"\n",
    "\n",
    "data = pd.read_csv(csv_input_path)\n",
    "data[\"html\"] = data.apply(apply_sections, axis=1, origin_col=ORIGIN_COL)\n",
    "data[[ORIGIN_COL, \"html\"]].rename(cols={ORIGIN_COL: \"origin\"}).to_csv(\n",
    "    csv_output_path, index=False\n",
    ")"
   ]
  },
  {
   "cell_type": "code",
   "execution_count": null,
   "metadata": {},
   "outputs": [],
   "source": [
    "# # For JSON\n",
    "json_input_path = \"./example/input/example.json\"\n",
    "json_output_path = \"./example/output/example.json\"\n",
    "\n",
    "data = pd.read_json(json_input_path)\n",
    "data[\"html\"] = data.apply(apply_sections, axis=1, origin_col=ORIGIN_COL)\n",
    "data[[ORIGIN_COL, \"html\"]].rename(cols={ORIGIN_COL: \"origin\"}).to_json(\n",
    "    json_output_path, orient=\"records\", indent=2\n",
    ")"
   ]
  },
  {
   "cell_type": "code",
   "execution_count": null,
   "metadata": {},
   "outputs": [],
   "source": [
    "import IPython.display\n",
    "\n",
    "out = pd.read_json(json_output_path)\n",
    "\n",
    "print(out[\"html\"][0])\n",
    "IPython.display.HTML(out[\"html\"][0])"
   ]
  }
 ],
 "metadata": {
  "language_info": {
   "codemirror_mode": {
    "name": "ipython"
   },
   "file_extension": ".py",
   "mimetype": "text/x-python",
   "name": "python",
   "nbconvert_exporter": "python"
  }
 },
 "nbformat": 4,
 "nbformat_minor": 1
}
